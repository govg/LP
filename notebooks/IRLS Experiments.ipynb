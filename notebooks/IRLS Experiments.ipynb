{
 "cells": [
  {
   "cell_type": "code",
   "execution_count": null,
   "metadata": {
    "collapsed": true
   },
   "outputs": [],
   "source": [
    "import numpy as np\n",
    "import os, sys, datetime, getpass, time\n",
    "import matplotlib.pyplot as plt"
   ]
  },
  {
   "cell_type": "code",
   "execution_count": null,
   "metadata": {},
   "outputs": [],
   "source": [
    "from utils import *"
   ]
  },
  {
   "cell_type": "code",
   "execution_count": null,
   "metadata": {},
   "outputs": [],
   "source": [
    "merrs"
   ]
  },
  {
   "cell_type": "code",
   "execution_count": null,
   "metadata": {},
   "outputs": [],
   "source": [
    "ks = [0.1, 0.2, 0.3, 0.4, 0.5, 0.6]\n",
    "Cs = [1, 2, 3, 4, 5]\n",
    "ds = [100, 200, 500, 1000]\n",
    "merrs = np.zeros((len(ds), len(ks), len(Cs)))\n",
    "rerrs = np.zeros((len(ds), len(ks), len(Cs)))\n",
    "\n",
    "i = 1\n",
    "ii = 0\n",
    "iii = 0\n",
    "\n",
    "d = 200"
   ]
  },
  {
   "cell_type": "code",
   "execution_count": null,
   "metadata": {},
   "outputs": [],
   "source": [
    "logfile = \"alllog.txt\"\n",
    "curtime = str(datetime.datetime.now())\n",
    "log = open(logfile, 'a')\n",
    "\n",
    "log.write(\"\\nTime: \" + curtime)\n",
    "\n",
    "print \"Dimension : \", d\n",
    "ii = 0\n",
    "\n",
    "for ki in ks:\n",
    "\n",
    "    print \"Sparsity level : \", ki\n",
    "    iii = 0\n",
    "\n",
    "    for C in Cs:\n",
    "\n",
    "        print \"Information level : \", C\n",
    "        runs = 10\n",
    "\n",
    "        # Parameters for the Normal distribution of the matrix\n",
    "        mu, sigma = 0, 1\n",
    "        k = int(ki*d)\n",
    "\n",
    "        # Number of rows of sensing matrix\n",
    "        N = int(C*k*np.log(d))\n",
    "        merrsum = 0.0\n",
    "        rerrsum = 0.0\n",
    "        tol = 0.00001\n",
    "\n",
    "        log.write(\"\\nruns: \" + str(runs))\n",
    "        log.write(\"\\nd: \" + str(d))\n",
    "        log.write(\"\\nk: \" + str(k))\n",
    "        log.write(\"\\nC: \" + str(C))\n",
    "\n",
    "\n",
    "        for run in range(runs):\n",
    "\n",
    "            # Create a random Gaussian design matrix, blank xstar\n",
    "            A = np.random.normal(mu, sigma, (N, d)) * np.sqrt(1.0/N)\n",
    "            xstar = np.zeros((d, 1))\n",
    "\n",
    "            # Choose the sparse activations in the signal\n",
    "            idx = np.arange(d)\n",
    "            np.random.shuffle(idx)\n",
    "\n",
    "            # Put random values in the signal\n",
    "            #xstar[idx[:k]] = np.random.normal(mu, 5, (k, 1))\n",
    "            xstar[idx[:k]] = 1\n",
    "\n",
    "            y = np.matmul(A, xstar)\n",
    "            try:\n",
    "                xiters, xf = irls(A, y)\n",
    "            except:\n",
    "                pass\n",
    "            merr = np.linalg.norm(np.matmul(A, xf) - y)\n",
    "            rerr = np.linalg.norm(xf - xstar)\n",
    "\n",
    "            merrsum += merr\n",
    "            rerrsum += rerr\n",
    "\n",
    "        avmerr = merrsum/runs\n",
    "        avrerr = rerrsum/runs\n",
    "\n",
    "        print \"Average measurement error : \", avmerr\n",
    "        print \"Average recovery error : \", avrerr\n",
    "\n",
    "        log.write(\"\\nmerr: \"+ str(avmerr))\n",
    "        log.write(\"\\nrerr: \"+ str(avrerr))\n",
    "\n",
    "        merrs[i][ii][iii] = avmerr\n",
    "        rerrs[i][ii][iii] = avrerr\n",
    "\n",
    "        iii +=1\n",
    "    ii += 1\n",
    "\n",
    "log.close()"
   ]
  },
  {
   "cell_type": "code",
   "execution_count": null,
   "metadata": {
    "collapsed": true
   },
   "outputs": [],
   "source": []
  },
  {
   "cell_type": "code",
   "execution_count": null,
   "metadata": {
    "collapsed": true
   },
   "outputs": [],
   "source": []
  }
 ],
 "metadata": {
  "kernelspec": {
   "display_name": "Python 2",
   "language": "python",
   "name": "python2"
  },
  "language_info": {
   "codemirror_mode": {
    "name": "ipython",
    "version": 2
   },
   "file_extension": ".py",
   "mimetype": "text/x-python",
   "name": "python",
   "nbconvert_exporter": "python",
   "pygments_lexer": "ipython2",
   "version": "2.7.13"
  }
 },
 "nbformat": 4,
 "nbformat_minor": 2
}
