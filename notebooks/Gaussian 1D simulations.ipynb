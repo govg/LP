{
 "cells": [
  {
   "cell_type": "code",
   "execution_count": 1,
   "metadata": {
    "collapsed": true
   },
   "outputs": [],
   "source": [
    "#Simulations for Gaussian decay\n",
    "import numpy as np\n",
    "import matplotlib.pyplot as plt"
   ]
  },
  {
   "cell_type": "code",
   "execution_count": 6,
   "metadata": {
    "collapsed": true
   },
   "outputs": [],
   "source": [
    "delta = 100\n",
    "b = 1"
   ]
  },
  {
   "cell_type": "code",
   "execution_count": 3,
   "metadata": {
    "collapsed": true
   },
   "outputs": [],
   "source": [
    "Nlim = 1000\n",
    "runs = 10\n",
    "var = 1\n",
    "c = np.zeros((Nlim, runs))"
   ]
  },
  {
   "cell_type": "code",
   "execution_count": 7,
   "metadata": {},
   "outputs": [
    {
     "data": {
      "image/png": "[encoded data removed]",
      "text/plain": [
       "<matplotlib.figure.Figure at 0x7f9b00532190>"
      ]
     },
     "metadata": {},
     "output_type": "display_data"
    }
   ],
   "source": [
    "for i in range(Nlim):\n",
    "    n = (i+1)*1000\n",
    "    bs = np.random.normal(b, var, n)\n",
    "    \n",
    "    for j in range(runs):\n",
    "        a = np.random.normal(0, var, n)\n",
    "    \n",
    "        q = (delta * a * a)/(delta * a - b)\n",
    "   \n",
    "        c[i,j] = q.mean()\n",
    "    plt.scatter(i+1, abs(c[i,:].mean()), color=\"r\")\n",
    "#    plt.scatter(i+1, abs(c.mean()) + c.var(), color=\"b\")\n",
    "#    plt.scatter(i+1, abs(c.mean()) - c.var(), color=\"b\")\n",
    "plt.title(\"Average of 1/1+x versus number of points (in thousands)\")\n",
    "plt.show()"
   ]
  },
  {
   "cell_type": "code",
   "execution_count": 28,
   "metadata": {},
   "outputs": [
    {
     "data": {
      "text/plain": [
       "array([  2.81105594e+00,   9.18717672e-01,   5.72198888e-01,\n",
       "         2.86511568e+00,   1.40391312e+00,   9.73586055e+00,\n",
       "        -1.30205209e+04,  -3.68180214e-01,   5.21186238e-01,\n",
       "         9.57498650e-01])"
      ]
     },
     "execution_count": 28,
     "metadata": {},
     "output_type": "execute_result"
    }
   ],
   "source": [
    "c[126]"
   ]
  }
 ],
 "metadata": {
  "kernelspec": {
   "display_name": "Python 2",
   "language": "python2",
   "name": "python2"
  },
  "language_info": {
   "codemirror_mode": {
    "name": "ipython",
    "version": 2
   },
   "file_extension": ".py",
   "mimetype": "text/x-python",
   "name": "python",
   "nbconvert_exporter": "python",
   "pygments_lexer": "ipython2",
   "version": "2.7.14"
  }
 },
 "nbformat": 4,
 "nbformat_minor": 2
}
