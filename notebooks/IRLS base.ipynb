{
 "cells": [
  {
   "cell_type": "code",
   "execution_count": null,
   "metadata": {
    "collapsed": true
   },
   "outputs": [],
   "source": [
    "import numpy as np\n",
    "import matplotlib.pyplot as plt"
   ]
  },
  {
   "cell_type": "code",
   "execution_count": null,
   "metadata": {
    "collapsed": true
   },
   "outputs": [],
   "source": [
    "def irlsp(A, y, maxiter = 1000, init = 1, d = 0.001, tol = 0.00001, p = 1):\n",
    "    \n",
    "    N, D = A.shape\n",
    "    \n",
    "    assert N == y.shape[0], \"Number of samples don't match\"\n",
    "    \n",
    "    print \"Dimensions are : \", N, \"x\", D\n",
    "    \n",
    "    w = np.ones((N, 1))\n",
    "    \n",
    "    biters = np.ones((1, D))\n",
    "    \n",
    "    for i in range(maxiter):\n",
    "        \n",
    "        # Our formula is beta = inv(X'WX)X'Wy\n",
    "        \n",
    "        # Create diagonal matrix W\n",
    "        W = np.diagflat(w)\n",
    "        # Compute X'WX\n",
    "        term1 = np.matmul(A.transpose(), W)\n",
    "        term2 = np.matmul(term1, A)\n",
    "        # Compute inverse\n",
    "        term3 = np.linalg.inv(term2)\n",
    "        # Compute X'Wy\n",
    "        term4 = np.matmul(A.transpose(), W)\n",
    "        term5 = np.matmul(term4, y)\n",
    "        # Compute total\n",
    "        beta = np.matmul(term3, term5)\n",
    "        # Clip really small values, below d\n",
    "        nw = np.maximum(d, np.abs(y - np.matmul(A, beta)))\n",
    "        # Invert the weights\n",
    "        w = np.power(nw, p - 2)\n",
    "        \n",
    "        biters = np.vstack((biters, beta.transpose()))\n",
    "        print \"Iteration number : \", i\n",
    "    \n",
    "    return witers, beta"
   ]
  },
  {
   "cell_type": "code",
   "execution_count": null,
   "metadata": {
    "collapsed": true
   },
   "outputs": [],
   "source": [
    "def irls(A, y, maxiter = 1000, init = 1, d = 0.001, tol = 0.000001):\n",
    "    \n",
    "    N, D = A.shape\n",
    "    \n",
    "    assert N == y.shape[0], \"Number of samples doesn't match\"\n",
    "\n",
    "    print \"Dimensions are : \", N, \"x\", D\n",
    "    \n",
    "    x = np.ones((D, 1))\n",
    "    xiters = x.transpose()\n",
    "    \n",
    "    print \"Generated x\"\n",
    "    for i in range(maxiter):\n",
    "        \n",
    "        X = np.diagflat(x)\n",
    "        \n",
    "        intm1 = np.matmul(X, A.transpose())\n",
    "        intm2 = np.matmul(A, intm1)\n",
    "        intm3 = np.linalg.pinv(intm2)\n",
    "        \n",
    "        intm4 = np.matmul(intm3, y)\n",
    "        x = np.matmul(intm1, intm4)\n",
    "        \n",
    "        print \"Iteration number : \", i \n",
    "        print \"Error : \", np.linalg.norm(np.matmul(A, x) - y)\n",
    "        xiters = np.vstack((xiters, x.transpose()))\n",
    "        #if np.linalg.norm(np.matmul(A, x) - y) < tol : \n",
    "        #    break\n",
    "               \n",
    "    \n",
    "    return xiters, x"
   ]
  },
  {
   "cell_type": "code",
   "execution_count": null,
   "metadata": {
    "collapsed": true
   },
   "outputs": [],
   "source": [
    "def sparsitycount(X, eps = 0.1):\n",
    "    counts = np.zeros((X.shape[0], 1))\n",
    "    \n",
    "    for i in range(X.shape[0]):\n",
    "        counts[i] += (X[i, :] > eps).sum()\n",
    "        counts[i] += (X[i, :] < -eps).sum()\n",
    "    \n",
    "    return counts\n",
    "\n",
    "def normlist(X):\n",
    "    \n",
    "    norms = np.zeros((X.shape[0], 1))\n",
    "    \n",
    "    for i in range(X.shape[0]):\n",
    "        norms[i] = np.linalg.norm(X[i])\n",
    "\n",
    "    return norms\n",
    "\n",
    "def convseq(X):\n",
    "    \n",
    "    diffs = np.zeros((X.shape[0] - 1, X.shape[1]))\n",
    "    \n",
    "    for i in range(X.shape[0] - 1):\n",
    "        \n",
    "        diffs[i, :] = X[i+1, :] - X[i, :]\n",
    "    \n",
    "    return diffs"
   ]
  },
  {
   "cell_type": "code",
   "execution_count": null,
   "metadata": {
    "collapsed": true
   },
   "outputs": [],
   "source": [
    "# Parameters for the Normal distribution of the matrix\n",
    "mu, sigma = 0, 1\n",
    "\n",
    "# Dimension of the problem\n",
    "d = 100\n",
    "# Sparsity level of the problem\n",
    "k = 100\n",
    "# Constant\n",
    "C = 2\n",
    "# Number of rows of sensing matrix\n",
    "N = int(C*k*np.log(d))"
   ]
  },
  {
   "cell_type": "code",
   "execution_count": null,
   "metadata": {
    "collapsed": true
   },
   "outputs": [],
   "source": [
    "# Create a random Gaussian design matrix, blank xstar\n",
    "A = np.random.normal(mu, sigma, (N, d)) * np.sqrt(1.0/N)\n",
    "xstar = np.zeros((d, 1))"
   ]
  },
  {
   "cell_type": "code",
   "execution_count": null,
   "metadata": {
    "collapsed": true
   },
   "outputs": [],
   "source": [
    "# Choose the sparse activations in the signal\n",
    "idx = np.arange(d)\n",
    "np.random.shuffle(idx)"
   ]
  },
  {
   "cell_type": "code",
   "execution_count": null,
   "metadata": {
    "collapsed": true
   },
   "outputs": [],
   "source": [
    "# Put random values in the signal\n",
    "#xstar[idx[:k]] = np.random.normal(mu, 5, (k, 1))\n",
    "xstar[idx[:k]] = 1"
   ]
  },
  {
   "cell_type": "code",
   "execution_count": null,
   "metadata": {
    "collapsed": true
   },
   "outputs": [],
   "source": [
    "y = np.matmul(A, xstar)"
   ]
  },
  {
   "cell_type": "code",
   "execution_count": null,
   "metadata": {
    "collapsed": true
   },
   "outputs": [],
   "source": [
    "xs = irls(A, y)"
   ]
  },
  {
   "cell_type": "code",
   "execution_count": null,
   "metadata": {
    "collapsed": true
   },
   "outputs": [],
   "source": [
    "bf = xs[1]\n",
    "blist = xs[0]"
   ]
  },
  {
   "cell_type": "code",
   "execution_count": null,
   "metadata": {
    "collapsed": true
   },
   "outputs": [],
   "source": [
    "ns = sparsitycount(blist, 0.0001)"
   ]
  },
  {
   "cell_type": "code",
   "execution_count": null,
   "metadata": {
    "collapsed": true
   },
   "outputs": [],
   "source": [
    "plt.plot(ns)\n",
    "plt.show()"
   ]
  },
  {
   "cell_type": "code",
   "execution_count": null,
   "metadata": {
    "collapsed": true
   },
   "outputs": [],
   "source": [
    "np.maximum(5, a)"
   ]
  }
 ],
 "metadata": {
  "kernelspec": {
   "display_name": "Python 2",
   "language": "python2",
   "name": "python2"
  },
  "language_info": {
   "codemirror_mode": {
    "name": "ipython",
    "version": 2
   },
   "file_extension": ".py",
   "mimetype": "text/x-python",
   "name": "python",
   "nbconvert_exporter": "python",
   "pygments_lexer": "ipython2",
   "version": "2.7.14"
  }
 },
 "nbformat": 4,
 "nbformat_minor": 2
}
